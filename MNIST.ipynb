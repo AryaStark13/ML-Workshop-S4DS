{
 "cells": [
  {
   "cell_type": "markdown",
   "metadata": {},
   "source": [
    "<h1 style = \"font-family: spantaran; font-size: 48px;\">Starting with the <span style = \"color:#0ddc76\">basics</span></h1>"
   ]
  },
  {
   "cell_type": "markdown",
   "metadata": {},
   "source": []
  },
  {
   "cell_type": "markdown",
   "metadata": {},
   "source": [
    "<h1 align = center style = \"font-family: spantaran; font-size: 60px;\"><span style = \"color:#0ddc76\">MNIST </span>using ANNs </h1>"
   ]
  },
  {
   "cell_type": "markdown",
   "metadata": {},
   "source": [
    "<h1 style = \"font-family: spantaran; font-size: 48px;\"><span style = \"color:#0ddc76\">Importing MNIST</span> + a little history</h1> "
   ]
  },
  {
   "cell_type": "markdown",
   "metadata": {},
   "source": [
    "<ul style = \"font-size:18px; font-family:Poppins;\">\n",
    "    <li>MNIST consists of black & white images of <span style = \"text-decoration: skyblue solid underline;\">28 x 28 pixels</span> each and a total of <b>70,000 images</b> (<span style = \"text-decoration: skyblue solid underline;\">60,000</span> for training and <span style = \"text-decoration: skyblue solid underline;\">10,000</span> for testing).</li> \n",
    "    <li>It was created by Yann LeCunn in <span style = \"text-decoration: skyblue solid underline;\">1988.</span></li>\n",
    "    <li>It consists of digits from 0 - 9 taken from the US Postal Service.</li> \n",
    "    <li>It is known as the <span style = \"text-decoration: skyblue solid underline;\">'Hello World' into Deep Learning</span> as most practitioners begin with the MNIST dataset.</li>\n",
    "</ul>  "
   ]
  },
  {
   "cell_type": "markdown",
   "metadata": {},
   "source": [
    "<ul type = \"square\" style = \"font-size:18px; font-family:Poppins;\">\n",
    "    <li>The tensorflow library has a bunch of datasets built-in that we can directly call in our code.</li>\n",
    "    <li>They <span style = \"text-decoration: skyblue solid underline;\">don't need to be downloaded externally</span> from another source.</li>\n",
    "    <li style = \"margin-top:12px;\">We can check the <a href = \"https://www.tensorflow.org/api_docs/python/tf/keras/datasets\">tf.keras.datasets</a> library to know more about the different datasets available.</li>\n",
    "</ul> "
   ]
  },
  {
   "cell_type": "code",
   "execution_count": 14,
   "metadata": {},
   "outputs": [
    {
     "name": "stdout",
     "output_type": "stream",
     "text": [
      "Shape of x_train: (60000, 28, 28)\n",
      "Shape of y_train: (60000,)\n",
      "Shape of x_test: (10000, 28, 28)\n",
      "Shape of y_test: (10000,)\n"
     ]
    }
   ],
   "source": [
    "import numpy as np\n",
    "import tensorflow as tf\n",
    "\n",
    "MNIST = tf.keras.datasets.mnist\n",
    "\n",
    "# check documentation on tf.keras.datasets.mnist to know about how to load the dataset. \n",
    "\n",
    "(x_train, y_train), (x_test, y_test) = MNIST.load_data()\n",
    "\n",
    "# The x_train and x_test variables contain the actual pixel values for all 784 pixels in each image.\n",
    "# While the y_train and y_test variables contain the corresponding digit from 0 - 9. \n",
    "\n",
    "print(f'Shape of x_train: {x_train.shape}')\n",
    "print(f'Shape of y_train: {y_train.shape}')\n",
    "print(f'Shape of x_test: {x_test.shape}')\n",
    "print(f'Shape of y_test: {y_test.shape}')"
   ]
  },
  {
   "cell_type": "markdown",
   "metadata": {},
   "source": [
    "<h1 style = \"font-family: spantaran; font-size: 48px;\">Data<span style = \"color:#0ddc76\"> Visualization</span></h1>"
   ]
  },
  {
   "cell_type": "markdown",
   "metadata": {},
   "source": [
    "<p style = \"font-size:18px; font-family:Poppins;\">◈ As we can see, the dataset is in the form of <span style = \"text-decoration: skyblue solid underline;\">numpy</span> arrays. Let us see what happens when we print a <span style = \"text-decoration: skyblue solid underline;\">single 28 x 28 (2-d) array.</span></p>"
   ]
  },
  {
   "cell_type": "code",
   "execution_count": 15,
   "metadata": {},
   "outputs": [
    {
     "data": {
      "text/plain": [
       "array([[  0,   0,   0,   0,   0,   0,   0,   0,   0,   0,   0,   0,   0,\n",
       "          0,   0,   0,   0,   0,   0,   0,   0,   0,   0,   0,   0,   0,\n",
       "          0,   0],\n",
       "       [  0,   0,   0,   0,   0,   0,   0,   0,   0,   0,   0,   0,   0,\n",
       "          0,   0,   0,   0,   0,   0,   0,   0,   0,   0,   0,   0,   0,\n",
       "          0,   0],\n",
       "       [  0,   0,   0,   0,   0,   0,   0,   0,   0,   0,   0,   0,   0,\n",
       "          0,   0,   0,   0,   0,   0,   0,   0,   0,   0,   0,   0,   0,\n",
       "          0,   0],\n",
       "       [  0,   0,   0,   0,   0,   0,   0,   0,   0,   0,   0,   0,   0,\n",
       "          0,   0,   0,   0,   0,   0,   0,   0,   0,   0,   0,   0,   0,\n",
       "          0,   0],\n",
       "       [  0,   0,   0,   0,   0,   0,   0,   0,   0,   0,   0,   0,   0,\n",
       "          0,   0,   0,   0,   0,   0,   0,   0,   0,   0,   0,   0,   0,\n",
       "          0,   0],\n",
       "       [  0,   0,   0,   0,   0,   0,   0,   0,   0,   0,   0,   0,   3,\n",
       "         18,  18,  18, 126, 136, 175,  26, 166, 255, 247, 127,   0,   0,\n",
       "          0,   0],\n",
       "       [  0,   0,   0,   0,   0,   0,   0,   0,  30,  36,  94, 154, 170,\n",
       "        253, 253, 253, 253, 253, 225, 172, 253, 242, 195,  64,   0,   0,\n",
       "          0,   0],\n",
       "       [  0,   0,   0,   0,   0,   0,   0,  49, 238, 253, 253, 253, 253,\n",
       "        253, 253, 253, 253, 251,  93,  82,  82,  56,  39,   0,   0,   0,\n",
       "          0,   0],\n",
       "       [  0,   0,   0,   0,   0,   0,   0,  18, 219, 253, 253, 253, 253,\n",
       "        253, 198, 182, 247, 241,   0,   0,   0,   0,   0,   0,   0,   0,\n",
       "          0,   0],\n",
       "       [  0,   0,   0,   0,   0,   0,   0,   0,  80, 156, 107, 253, 253,\n",
       "        205,  11,   0,  43, 154,   0,   0,   0,   0,   0,   0,   0,   0,\n",
       "          0,   0],\n",
       "       [  0,   0,   0,   0,   0,   0,   0,   0,   0,  14,   1, 154, 253,\n",
       "         90,   0,   0,   0,   0,   0,   0,   0,   0,   0,   0,   0,   0,\n",
       "          0,   0],\n",
       "       [  0,   0,   0,   0,   0,   0,   0,   0,   0,   0,   0, 139, 253,\n",
       "        190,   2,   0,   0,   0,   0,   0,   0,   0,   0,   0,   0,   0,\n",
       "          0,   0],\n",
       "       [  0,   0,   0,   0,   0,   0,   0,   0,   0,   0,   0,  11, 190,\n",
       "        253,  70,   0,   0,   0,   0,   0,   0,   0,   0,   0,   0,   0,\n",
       "          0,   0],\n",
       "       [  0,   0,   0,   0,   0,   0,   0,   0,   0,   0,   0,   0,  35,\n",
       "        241, 225, 160, 108,   1,   0,   0,   0,   0,   0,   0,   0,   0,\n",
       "          0,   0],\n",
       "       [  0,   0,   0,   0,   0,   0,   0,   0,   0,   0,   0,   0,   0,\n",
       "         81, 240, 253, 253, 119,  25,   0,   0,   0,   0,   0,   0,   0,\n",
       "          0,   0],\n",
       "       [  0,   0,   0,   0,   0,   0,   0,   0,   0,   0,   0,   0,   0,\n",
       "          0,  45, 186, 253, 253, 150,  27,   0,   0,   0,   0,   0,   0,\n",
       "          0,   0],\n",
       "       [  0,   0,   0,   0,   0,   0,   0,   0,   0,   0,   0,   0,   0,\n",
       "          0,   0,  16,  93, 252, 253, 187,   0,   0,   0,   0,   0,   0,\n",
       "          0,   0],\n",
       "       [  0,   0,   0,   0,   0,   0,   0,   0,   0,   0,   0,   0,   0,\n",
       "          0,   0,   0,   0, 249, 253, 249,  64,   0,   0,   0,   0,   0,\n",
       "          0,   0],\n",
       "       [  0,   0,   0,   0,   0,   0,   0,   0,   0,   0,   0,   0,   0,\n",
       "          0,  46, 130, 183, 253, 253, 207,   2,   0,   0,   0,   0,   0,\n",
       "          0,   0],\n",
       "       [  0,   0,   0,   0,   0,   0,   0,   0,   0,   0,   0,   0,  39,\n",
       "        148, 229, 253, 253, 253, 250, 182,   0,   0,   0,   0,   0,   0,\n",
       "          0,   0],\n",
       "       [  0,   0,   0,   0,   0,   0,   0,   0,   0,   0,  24, 114, 221,\n",
       "        253, 253, 253, 253, 201,  78,   0,   0,   0,   0,   0,   0,   0,\n",
       "          0,   0],\n",
       "       [  0,   0,   0,   0,   0,   0,   0,   0,  23,  66, 213, 253, 253,\n",
       "        253, 253, 198,  81,   2,   0,   0,   0,   0,   0,   0,   0,   0,\n",
       "          0,   0],\n",
       "       [  0,   0,   0,   0,   0,   0,  18, 171, 219, 253, 253, 253, 253,\n",
       "        195,  80,   9,   0,   0,   0,   0,   0,   0,   0,   0,   0,   0,\n",
       "          0,   0],\n",
       "       [  0,   0,   0,   0,  55, 172, 226, 253, 253, 253, 253, 244, 133,\n",
       "         11,   0,   0,   0,   0,   0,   0,   0,   0,   0,   0,   0,   0,\n",
       "          0,   0],\n",
       "       [  0,   0,   0,   0, 136, 253, 253, 253, 212, 135, 132,  16,   0,\n",
       "          0,   0,   0,   0,   0,   0,   0,   0,   0,   0,   0,   0,   0,\n",
       "          0,   0],\n",
       "       [  0,   0,   0,   0,   0,   0,   0,   0,   0,   0,   0,   0,   0,\n",
       "          0,   0,   0,   0,   0,   0,   0,   0,   0,   0,   0,   0,   0,\n",
       "          0,   0],\n",
       "       [  0,   0,   0,   0,   0,   0,   0,   0,   0,   0,   0,   0,   0,\n",
       "          0,   0,   0,   0,   0,   0,   0,   0,   0,   0,   0,   0,   0,\n",
       "          0,   0],\n",
       "       [  0,   0,   0,   0,   0,   0,   0,   0,   0,   0,   0,   0,   0,\n",
       "          0,   0,   0,   0,   0,   0,   0,   0,   0,   0,   0,   0,   0,\n",
       "          0,   0]], dtype=uint8)"
      ]
     },
     "execution_count": 15,
     "metadata": {},
     "output_type": "execute_result"
    }
   ],
   "source": [
    "x_train[0]"
   ]
  },
  {
   "cell_type": "markdown",
   "metadata": {},
   "source": [
    "<p style = \"font-size:18px; font-family:Poppins;\">◈ This doesn't look anything like an image though, and we know that MNIST dataset consists of images of numbers from 0 - 9.</p>\n",
    "<p style = \"font-size:18px; font-family:Poppins;\">◈ To plot these images, we will use the <span style = \"text-decoration: skyblue solid underline;\">matplotlib</span> library, which allows us to convert <span style = \"text-decoration: skyblue solid underline;\">arrays of pixel values</span> like above, into <span style = \"text-decoration: skyblue solid underline;\">images</span> that we can infer from easily.</p> "
   ]
  },
  {
   "cell_type": "markdown",
   "metadata": {},
   "source": [
    "<p style = \"font-size:18px; font-family: Poppins;\">❖ Visualizing the dataset by plotting 6 random images</p>"
   ]
  },
  {
   "cell_type": "code",
   "execution_count": 16,
   "metadata": {},
   "outputs": [
    {
     "data": {
      "image/png": "[encoded data removed]",
      "text/plain": [
       "<Figure size 1296x864 with 6 Axes>"
      ]
     },
     "metadata": {
      "needs_background": "light"
     },
     "output_type": "display_data"
    }
   ],
   "source": [
    "import matplotlib.pyplot as plt\n",
    "\n",
    "fig, ax = plt.subplots(2, 3, figsize=(18, 12))\n",
    "\n",
    "for i in range(2):\n",
    "    for j in range(3):\n",
    "        index = np.random.randint(0, 60000)\n",
    "        ax[i, j].imshow(x_train[index], cmap='gray')\n",
    "        ax[i, j].set_title(f'True Label: {y_train[index]}', fontsize=16)\n",
    "        index += 1\n",
    "\n",
    "plt.suptitle('Visualising the dataset', fontsize=24)\n",
    "plt.show()"
   ]
  },
  {
   "cell_type": "markdown",
   "metadata": {},
   "source": [
    "<p style = \"font-size:18px; font-family:Poppins;\">Here, we visualized the dataset by plotting their images using the <b>matplotlib</b> library.</p> \n",
    "\n",
    "<p style = \"font-size:18px; font-family:Poppins;\">The <span style = \"text-decoration: palevioletred solid underline;\">imshow()</span> function converts the numpy arrays that the images originally are, into their correct pixel values and creates their images.</p>"
   ]
  },
  {
   "cell_type": "markdown",
   "metadata": {},
   "source": [
    "<h1 style = \"font-family: spantaran; font-size: 48px;\">Data<span style = \"color:#0ddc76\"> Transformation</span></h1>"
   ]
  },
  {
   "cell_type": "markdown",
   "metadata": {},
   "source": [
    "<p style = \"font-size:18px; font-family:Poppins;\">◈ Now, we saw above while printing the numpy array that each image consists of pixel values from 0 - 255. And as we learned at the start of this workshop in Simple Linear Regression, <span style = \"text-decoration: skyblue solid underline;\">bigger values skew the results</span> towards their side even though they might not necessarily be more important.</p> \n",
    "\n",
    "<p style = \"font-size:18px; font-family:Poppins;\">◈ For example, in a 28 x 28 image of a digit, the <span style = \"text-decoration: skyblue solid underline;\">black</span> pixels surrounding the number <span style = \"text-decoration: skyblue solid underline;\">are also just as important</span> as the <span style = \"text-decoration: skyblue solid underline;\">white</span> pixels that make-up the number.</p>\n",
    "\n",
    "<p style = \"font-size:18px; font-family:Poppins;\">◈ So, to counter this, we <span style = \"text-decoration: skyblue solid underline;\">transform</span> our data from pixel values of 0-255, to pixel values <span style = \"text-decoration: skyblue solid underline;\">scaled down</span> to 0-1.</p> "
   ]
  },
  {
   "cell_type": "code",
   "execution_count": 17,
   "metadata": {},
   "outputs": [],
   "source": [
    "x_train, x_test = x_train / 255.0, x_test / 255.0"
   ]
  },
  {
   "cell_type": "markdown",
   "metadata": {},
   "source": [
    "<h1 style = \"font-family: spantaran; font-size: 48px;\"><span style = \"color:#0ddc76\">Model </span>Building</h1>"
   ]
  },
  {
   "cell_type": "markdown",
   "metadata": {},
   "source": [
    "<p style = \"font-size: 18px; font-family: Poppins;\">◈ Now comes the most exciting part of the entire ML journey...drumroll🥁... Building the <span style = \"color: #0ddc76;\"><b>Artificial Neural Network (ANN)</span> Model</b> !!</p>"
   ]
  },
  {
   "cell_type": "markdown",
   "metadata": {},
   "source": [
    "<ul type = \"square\" style = \"font-size:18px; font-family:Poppins;\">\n",
    "<li style = \"margin-bottom: 7px;\">First, let's get over the jargon and syntax essential to build a model using tensorflow.</li>\n",
    "<li style = \"margin-bottom: 7px;\">As we can see, building a deep learning model using tensorflow is not coding heavy at all.</li>\n",
    "<li style = \"margin-bottom: 30px;\">Infact, this is the simplest way to build a deep learning network and the best way to begin with.</li>\n",
    "<li style = \"margin-bottom: 7px;\">We initialise the Sequential() model class from tensorflow which uses keras as it's backend. The Sequential() API allows us to add layers one after the other in a very intuitive way.</li>\n",
    "<li style = \"margin-bottom: 7px;\">Using the Sequential() model, we don't need to create any Data Loaders, Batch Loaders, we don't need to create different classes and functions for each Dense/Dropout layers.</li>\n",
    "<li style = \"margin-bottom: 7px;\"> We can add new layers in the model by just using the model.add(layer) function.</li>\n",
    "<li style = \"margin-bottom: 7px;\">Tensorflow takes care of it all for us.</li>\n",
    "</ul> "
   ]
  },
  {
   "cell_type": "markdown",
   "metadata": {},
   "source": [
    "<p style = \"font-size: 18px; font-family: Poppins;\">◈ Now, the <span style = \"text-decoration: skyblue dotted underline; color: sandybrown\">layers</span> in a Neural Network consist of the following: <b>[JARGON ALERT]</b></p>\n",
    "<ul type = \"circle\" style = \"font-size: 16px; font-family: Poppins; margin-left: 20px;\">\n",
    "    <li style = \"margin-bottom: 7px;\"><span style = \"text-decoration: sandybrown underline;\">Flatten()</span> - The Flatten() layer converts the 28 x 28, 2-dimensional input into a 784-length vector.</li>\n",
    "    <li style = \"margin-bottom: 7px;\"><span style = \"text-decoration: sandybrown underline;\">Dense()</span> - This is essentially the <span style = \"text-decoration: skyblue solid underline;\">multi-layered perceptron</span> we talked about. We can adjust the number of neurons/perceptrons in each Dense layer. For simplicity, I have just kept them as 64 neurons for both Dense() layers.</li>\n",
    "    <li style = \"margin-bottom: 7px;\"><span style = \"text-decoration: sandybrown underline;\">Dropout()</span> - Randomly drops a given percentage of neuron values to ensure uniformity and curb overfitting.</li>\n",
    "</ul> "
   ]
  },
  {
   "cell_type": "code",
   "execution_count": 18,
   "metadata": {},
   "outputs": [],
   "source": [
    "import tensorflow as tf\n",
    "\n",
    "from tensorflow.keras.models import Sequential\n",
    "from tensorflow.keras.layers import Dense, Flatten, Dropout\n",
    "\n",
    "\n",
    "model = Sequential()\n",
    "model.add(Flatten(input_shape = x_train[0].shape))\n",
    "model.add(Dense(64, activation='sigmoid'))\n",
    "model.add(Dropout(0.2))\n",
    "model.add(Dense(64, activation='sigmoid'))\n",
    "model.add(Dropout(0.2))\n",
    "model.add(Dense(10, activation='softmax'))"
   ]
  },
  {
   "cell_type": "markdown",
   "metadata": {},
   "source": [
    "<p style = \"font-size: 18px; font-family: Poppins;\">◈ By printing out the <span style = \"text-decoration: skyblue solid underline;\">model summary</span>, we can see the output shape of each layer that acts as an input to the next layer.</p>\n",
    "<p style = \"font-size: 18px; font-family: Poppins;\">◈ We can also see that the output shape for the final layer is 10, which is the <span style = \"text-decoration: skyblue solid underline;\">number of unique values</span> in our dependant variable Y.</p>"
   ]
  },
  {
   "cell_type": "code",
   "execution_count": 19,
   "metadata": {},
   "outputs": [
    {
     "name": "stdout",
     "output_type": "stream",
     "text": [
      "Model: \"sequential_1\"\n",
      "_________________________________________________________________\n",
      " Layer (type)                Output Shape              Param #   \n",
      "=================================================================\n",
      " flatten_1 (Flatten)         (None, 784)               0         \n",
      "                                                                 \n",
      " dense_3 (Dense)             (None, 64)                50240     \n",
      "                                                                 \n",
      " dropout_2 (Dropout)         (None, 64)                0         \n",
      "                                                                 \n",
      " dense_4 (Dense)             (None, 64)                4160      \n",
      "                                                                 \n",
      " dropout_3 (Dropout)         (None, 64)                0         \n",
      "                                                                 \n",
      " dense_5 (Dense)             (None, 10)                650       \n",
      "                                                                 \n",
      "=================================================================\n",
      "Total params: 55,050\n",
      "Trainable params: 55,050\n",
      "Non-trainable params: 0\n",
      "_________________________________________________________________\n"
     ]
    }
   ],
   "source": [
    "model.summary()"
   ]
  },
  {
   "cell_type": "markdown",
   "metadata": {},
   "source": [
    "<p style = \"font-size: 18px; font-family: Poppins;\">◈ The total number of paramenters (that is the number of different weights and biases) are <span style = \"text-decoration: skyblue solid underline; color: navajowhite\">55,000.</span> Thought this might look like a huge number, this is miniscule compared to the <span style = \"text-decoration: skyblue solid underline;\">Billions</span> of parameters that State of the Art models are trained on.</p> \n",
    "\n",
    "<p style = \"font-size: 18px; font-family: Poppins;\">◈ Those models require tremendous computational power to train and are genreally trained on supercomputers connected to multiple GPUs at a time.</p> \n",
    "\n",
    "<p style = \"font-size: 18px; font-family: Poppins;\">◈ This requirement for huge computational power and longer training periods is what drives the cost for newer better State of the Art models to go up considerably.</p> "
   ]
  },
  {
   "cell_type": "markdown",
   "metadata": {},
   "source": [
    "<h1 style = \"font-family: spantaran; font-size: 48px;\"><span style = \"color:#0ddc76\">Compiling </span>and <span style = \"color:#0ddc76\">Training </span>the model</h1>"
   ]
  },
  {
   "cell_type": "markdown",
   "metadata": {},
   "source": [
    "<p style = \"font-size: 18px; font-family: Poppins;\">◈ Next, we <span style = \"text-decoration: skyblue solid underline;\">compile</span> and <span style = \"text-decoration: skyblue solid underline;\">fit</span> the data to the model created.</p> \n",
    "\n",
    "<p style = \"font-size: 18px; font-family: Poppins;\">◈ All of this just takes 2 lines of codes and nothing more!! That seems mind blowing to me till this day 🤯</p>"
   ]
  },
  {
   "cell_type": "markdown",
   "metadata": {},
   "source": [
    "<p style = \"font-size: 18px; font-family: Poppins;\">◈  Explaining the <span style = \"text-decoration: skyblue solid underline\">optimizers</span> and <span style = \"text-decoration: skyblue solid underline\">loss</span> functions: <b>[JARGON ALERT]</b></p>\n",
    "\n",
    "<ul type = \"circle\" style = \"font-size: 18px; font-family: Poppins;\">\n",
    "    <li style = \"margin-bottom: 20px;\"><span style = \"color: palegreen\">Loss function</span>:  What does <span style = \"font-family: consolas; color: sandybrown;\">sparse_categorical_crossentropy</span> mean?\n",
    "        <ul type = \"square\" style = \"font-size: 16px; font-family: Poppins; margin-left: 15px;\">\n",
    "            <li style = \"margin-bottom: 7px;\">Once again, we will simply refer the tensorflow documentation for this. Link <a href = \"https://www.tensorflow.org/api_docs/python/tf/keras/losses/SparseCategoricalCrossentropy\">here.</a></li>\n",
    "            <li style = \"margin-bottom: 7px;\">We use this loss function when we are doing multi-label classification (2 or more label classes). We have 10 in our case, 0-9.</li>\n",
    "            <li style = \"margin-bottom: 7px;\">For labels that are in a <span style = \"text-decoration: skyblue solid underline\">one-hot-encoded format</span>, we use the <span style = \"font-family: consolas; color: sandybrown;\">CategoricalCrossentropy</span> loss function. To know more about, one-hot-encoding, Link <a href = \"https://www.educative.io/blog/one-hot-encoding\">here.</a></li>\n",
    "        </ul>\n",
    "    </li>\n",
    "    <li style = \"margin-bottom: 20px;\"><span style = \"color: palegreen\">Optimizer:</span>\n",
    "        <ul type = \"square\" style = \"font-size: 16px; font-family: Poppins; margin-left: 15px;\">\n",
    "            <li style = \"margin-bottom: 7px;\">As explained above in Simple Linear Regression, we optimize our parameters (weights and biases) using a method called <span style = \"text-decoration: skyblue solid underline; color: turquoise\">Gradient Descent.</span></li>\n",
    "            <li style = \"margin-bottom: 7px;\">The different hyperparameters in the Gradient Descent Algorithm include the learning rate and methods on how to initialise the weights and bias.</li>\n",
    "            <li style = \"margin-bottom: 7px;\">This is where the <span style = \"font-family: consolas; color: sandybrown;\">Adam</span> optimizer comes in - It has pre-defined values for learning rate and other hyperparameters which work well enough for our case!</li>\n",
    "            <li>More on the <span style = \"font-family: consolas; color: sandybrown;\">Adam</span> optimizer can be found <a href = \"https://www.tensorflow.org/api_docs/python/tf/keras/optimizers/Adam\">here.</a></li>\n",
    "        </ul>\n",
    "    </li>\n",
    "</ul> "
   ]
  },
  {
   "cell_type": "code",
   "execution_count": 20,
   "metadata": {},
   "outputs": [
    {
     "name": "stdout",
     "output_type": "stream",
     "text": [
      "Epoch 1/20\n",
      "1875/1875 [==============================] - 6s 3ms/step - loss: 0.6828 - accuracy: 0.8074 - val_loss: 0.2673 - val_accuracy: 0.9222\n",
      "Epoch 2/20\n",
      "1875/1875 [==============================] - 5s 3ms/step - loss: 0.3033 - accuracy: 0.9133 - val_loss: 0.1980 - val_accuracy: 0.9387\n",
      "Epoch 3/20\n",
      "1875/1875 [==============================] - 5s 3ms/step - loss: 0.2418 - accuracy: 0.9282 - val_loss: 0.1666 - val_accuracy: 0.9490\n",
      "Epoch 4/20\n",
      "1875/1875 [==============================] - 5s 3ms/step - loss: 0.2061 - accuracy: 0.9394 - val_loss: 0.1428 - val_accuracy: 0.9566\n",
      "Epoch 5/20\n",
      "1875/1875 [==============================] - 4s 2ms/step - loss: 0.1857 - accuracy: 0.9440 - val_loss: 0.1327 - val_accuracy: 0.9589\n",
      "Epoch 6/20\n",
      "1875/1875 [==============================] - 4s 2ms/step - loss: 0.1677 - accuracy: 0.9498 - val_loss: 0.1229 - val_accuracy: 0.9633\n",
      "Epoch 7/20\n",
      "1875/1875 [==============================] - 4s 2ms/step - loss: 0.1534 - accuracy: 0.9535 - val_loss: 0.1160 - val_accuracy: 0.9646\n",
      "Epoch 8/20\n",
      "1875/1875 [==============================] - 4s 2ms/step - loss: 0.1445 - accuracy: 0.9564 - val_loss: 0.1122 - val_accuracy: 0.9662\n",
      "Epoch 9/20\n",
      "1875/1875 [==============================] - 4s 2ms/step - loss: 0.1369 - accuracy: 0.9582 - val_loss: 0.1037 - val_accuracy: 0.9688\n",
      "Epoch 10/20\n",
      "1875/1875 [==============================] - 4s 2ms/step - loss: 0.1297 - accuracy: 0.9603 - val_loss: 0.1025 - val_accuracy: 0.9688\n",
      "Epoch 11/20\n",
      "1875/1875 [==============================] - 5s 2ms/step - loss: 0.1265 - accuracy: 0.9612 - val_loss: 0.1011 - val_accuracy: 0.9700\n",
      "Epoch 12/20\n",
      "1875/1875 [==============================] - 4s 2ms/step - loss: 0.1189 - accuracy: 0.9636 - val_loss: 0.1007 - val_accuracy: 0.9703\n",
      "Epoch 13/20\n",
      "1875/1875 [==============================] - 4s 2ms/step - loss: 0.1134 - accuracy: 0.9653 - val_loss: 0.0990 - val_accuracy: 0.9704\n",
      "Epoch 14/20\n",
      "1875/1875 [==============================] - 4s 2ms/step - loss: 0.1095 - accuracy: 0.9665 - val_loss: 0.0947 - val_accuracy: 0.9714\n",
      "Epoch 15/20\n",
      "1875/1875 [==============================] - 5s 3ms/step - loss: 0.1065 - accuracy: 0.9673 - val_loss: 0.0941 - val_accuracy: 0.9714\n",
      "Epoch 16/20\n",
      "1875/1875 [==============================] - 4s 2ms/step - loss: 0.1030 - accuracy: 0.9668 - val_loss: 0.0951 - val_accuracy: 0.9715\n",
      "Epoch 17/20\n",
      "1875/1875 [==============================] - 4s 2ms/step - loss: 0.1014 - accuracy: 0.9682 - val_loss: 0.0942 - val_accuracy: 0.9715\n",
      "Epoch 18/20\n",
      "1875/1875 [==============================] - 5s 2ms/step - loss: 0.0973 - accuracy: 0.9692 - val_loss: 0.0937 - val_accuracy: 0.9726\n",
      "Epoch 19/20\n",
      "1875/1875 [==============================] - 5s 3ms/step - loss: 0.0947 - accuracy: 0.9703 - val_loss: 0.0933 - val_accuracy: 0.9716\n",
      "Epoch 20/20\n",
      "1875/1875 [==============================] - 5s 3ms/step - loss: 0.0923 - accuracy: 0.9707 - val_loss: 0.0907 - val_accuracy: 0.9739\n"
     ]
    }
   ],
   "source": [
    "model.compile(optimizer='Adam', loss='sparse_categorical_crossentropy', metrics=['accuracy'])\n",
    "\n",
    "r = model.fit(x_train, y_train, validation_data=(x_test, y_test), epochs=20)"
   ]
  },
  {
   "cell_type": "markdown",
   "metadata": {},
   "source": [
    "<h1 style = \"font-family: spantaran; font-size: 48px;\">Viewing<span style = \"color:#0ddc76\"> misclassified</span> examples</h1>"
   ]
  },
  {
   "cell_type": "code",
   "execution_count": 21,
   "metadata": {},
   "outputs": [
    {
     "data": {
      "image/png": "[encoded data removed]",
      "text/plain": [
       "<Figure size 1296x864 with 6 Axes>"
      ]
     },
     "metadata": {
      "needs_background": "light"
     },
     "output_type": "display_data"
    }
   ],
   "source": [
    "import random\n",
    "\n",
    "model_predictions = model.predict(x_test).argmax(axis=1)\n",
    "\n",
    "misclassified_examples = np.where(model_predictions != y_test)[0] # Since it returns a tuple containing an array.\n",
    "\n",
    "fig, ax = plt.subplots(2, 3, figsize=(18, 12))\n",
    "\n",
    "for i in range(2):\n",
    "    for j in range(3):\n",
    "        index = random.choice(misclassified_examples)\n",
    "        ax[i, j].imshow(x_test[index], cmap='gray')\n",
    "        ax[i, j].set_title(f'True Label: {y_test[index]} Predicted Label: {model_predictions[index]}', fontsize=16)\n",
    "\n",
    "plt.suptitle('Viewing misclassified examples from the test set', fontsize=24)\n",
    "plt.show()"
   ]
  },
  {
   "cell_type": "markdown",
   "metadata": {},
   "source": [
    "<h1 style = \"font-family: spantaran; font-size: 48px;\"><span style = \"color:#0ddc76\">Saving </span>and <span style = \"color:#0ddc76\">Loading </span> Model</h1>"
   ]
  },
  {
   "cell_type": "markdown",
   "metadata": {},
   "source": [
    "<p style = \"font-family: Poppins; font-size: 18px;\">◈ Tensorflow also has built-in modules that allow us to <span style = \"text-decoration: skyblue solid underline\">freeze</span> the model parameters and save them for future use.</p> "
   ]
  },
  {
   "cell_type": "code",
   "execution_count": 22,
   "metadata": {},
   "outputs": [
    {
     "name": "stdout",
     "output_type": "stream",
     "text": [
      "Model: \"sequential_1\"\n",
      "_________________________________________________________________\n",
      " Layer (type)                Output Shape              Param #   \n",
      "=================================================================\n",
      " flatten_1 (Flatten)         (None, 784)               0         \n",
      "                                                                 \n",
      " dense_3 (Dense)             (None, 64)                50240     \n",
      "                                                                 \n",
      " dropout_2 (Dropout)         (None, 64)                0         \n",
      "                                                                 \n",
      " dense_4 (Dense)             (None, 64)                4160      \n",
      "                                                                 \n",
      " dropout_3 (Dropout)         (None, 64)                0         \n",
      "                                                                 \n",
      " dense_5 (Dense)             (None, 10)                650       \n",
      "                                                                 \n",
      "=================================================================\n",
      "Total params: 55,050\n",
      "Trainable params: 55,050\n",
      "Non-trainable params: 0\n",
      "_________________________________________________________________\n"
     ]
    }
   ],
   "source": [
    "# Saving and loading the model for future use:\n",
    "\n",
    "from tensorflow.keras.models import load_model\n",
    "\n",
    "model.save('MNIST_ANN.h5')\n",
    "\n",
    "saved_model = load_model('MNIST_ANN.h5')\n",
    "\n",
    "saved_model.summary()"
   ]
  }
 ],
 "metadata": {
  "interpreter": {
   "hash": "f2ccb58c476f33ba3e3aee7ac07234ef6b8217ef24ad64d2a7d4fed1a57c1cd2"
  },
  "kernelspec": {
   "display_name": "Python 3.10.3 64-bit",
   "language": "python",
   "name": "python3"
  },
  "language_info": {
   "codemirror_mode": {
    "name": "ipython",
    "version": 3
   },
   "file_extension": ".py",
   "mimetype": "text/x-python",
   "name": "python",
   "nbconvert_exporter": "python",
   "pygments_lexer": "ipython3",
   "version": "3.10.3"
  },
  "varInspector": {
   "cols": {
    "lenName": 16,
    "lenType": 16,
    "lenVar": 40
   },
   "kernels_config": {
    "python": {
     "delete_cmd_postfix": "",
     "delete_cmd_prefix": "del ",
     "library": "var_list.py",
     "varRefreshCmd": "print(var_dic_list())"
    },
    "r": {
     "delete_cmd_postfix": ") ",
     "delete_cmd_prefix": "rm(",
     "library": "var_list.r",
     "varRefreshCmd": "cat(var_dic_list()) "
    }
   },
   "types_to_exclude": [
    "module",
    "function",
    "builtin_function_or_method",
    "instance",
    "_Feature"
   ],
   "window_display": false
  }
 },
 "nbformat": 4,
 "nbformat_minor": 2
}
